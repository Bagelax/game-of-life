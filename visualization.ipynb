{
 "cells": [
  {
   "cell_type": "code",
   "execution_count": 20,
   "metadata": {},
   "outputs": [],
   "source": [
    "from matplotlib.animation import FuncAnimation\n",
    "import matplotlib.pyplot as plt\n",
    "import numpy as np\n",
    "from IPython.display import HTML\n",
    "\n",
    "def animate(steps):\n",
    "    def init():\n",
    "        im.set_data(steps[0])\n",
    "        return [im]\n",
    "\n",
    "    def animation_function(i):\n",
    "        im.set_data(steps[i])\n",
    "        return [im]\n",
    "\n",
    "    im = plt.matshow(steps[0], interpolation='None', animated=True)\n",
    "\n",
    "    return FuncAnimation(im.get_figure(), animation_function, init_func=init,\n",
    "                         frames=len(steps), interval=500, blit=True, repeat=False)\n"
   ]
  },
  {
   "cell_type": "markdown",
   "metadata": {},
   "source": [
    "One thread is one cell and synchronization is done using mutex and semaphores\n"
   ]
  },
  {
   "cell_type": "code",
   "execution_count": 21,
   "metadata": {
    "pycharm": {
     "name": "#%%\n"
    }
   },
   "outputs": [
    {
     "data": {
      "text/plain": "<IPython.core.display.HTML object>",
      "text/html": "<video width=\"288\" height=\"288\" controls autoplay>\n  <source type=\"video/mp4\" src=\"data:video/mp4;base64,AAAAIGZ0eXBNNFYgAAACAE00ViBpc29taXNvMmF2YzEAAAAIZnJlZQAAC2ltZGF0AAACrQYF//+p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\n\">\n  Your browser does not support the video tag.\n</video>"
     },
     "execution_count": 21,
     "metadata": {},
     "output_type": "execute_result"
    },
    {
     "data": {
      "text/plain": "<Figure size 288x288 with 1 Axes>",
      "image/png": "[encoded data removed]"
     },
     "metadata": {
      "needs_background": "light"
     },
     "output_type": "display_data"
    }
   ],
   "source": [
    "from threads_keys_and_semaphores import create_steps\n",
    "\n",
    "animation = animate(create_steps())\n",
    "HTML(animation.to_html5_video())"
   ]
  },
  {
   "cell_type": "markdown",
   "source": [
    "One thread is one cell and synchronization is done message queue\n"
   ],
   "metadata": {
    "collapsed": false
   }
  },
  {
   "cell_type": "code",
   "execution_count": null,
   "outputs": [],
   "source": [
    "from threads_message_queue import create_steps\n",
    "\n",
    "animation = animate(create_steps())\n",
    "HTML(animation.to_html5_video())"
   ],
   "metadata": {
    "collapsed": false,
    "pycharm": {
     "name": "#%%\n"
    }
   }
  },
  {
   "cell_type": "markdown",
   "source": [
    "One process is one cell and synchronization is done message queue\n"
   ],
   "metadata": {
    "collapsed": false
   }
  },
  {
   "cell_type": "code",
   "execution_count": null,
   "outputs": [],
   "source": [
    "from processes_message_queue import create_steps\n",
    "\n",
    "animation = animate(create_steps())\n",
    "HTML(animation.to_html5_video())"
   ],
   "metadata": {
    "collapsed": false,
    "pycharm": {
     "name": "#%%\n"
    }
   }
  },
  {
   "cell_type": "markdown",
   "source": [
    "Process pool with tasks on cell group level\n"
   ],
   "metadata": {
    "collapsed": false,
    "pycharm": {
     "name": "#%% md\n"
    }
   }
  },
  {
   "cell_type": "code",
   "execution_count": null,
   "metadata": {
    "pycharm": {
     "name": "#%%\n"
    }
   },
   "outputs": [],
   "source": [
    "from process_pool import create_steps\n",
    "\n",
    "animation = animate(create_steps())\n",
    "HTML(animation.to_html5_video())\n"
   ]
  },
  {
   "cell_type": "code",
   "execution_count": 9,
   "metadata": {},
   "outputs": [
    {
     "name": "stdout",
     "output_type": "stream",
     "text": [
      "None\n"
     ]
    }
   ],
   "source": [
    "print(create_steps())"
   ]
  }
 ],
 "metadata": {
  "kernelspec": {
   "display_name": "Python 3",
   "language": "python",
   "name": "python3"
  },
  "language_info": {
   "codemirror_mode": {
    "name": "ipython",
    "version": 3
   },
   "file_extension": ".py",
   "mimetype": "text/x-python",
   "name": "python",
   "nbconvert_exporter": "python",
   "pygments_lexer": "ipython3",
   "version": "3.8.5"
  }
 },
 "nbformat": 4,
 "nbformat_minor": 1
}