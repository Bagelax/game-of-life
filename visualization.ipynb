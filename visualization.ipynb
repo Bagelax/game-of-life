{
 "cells": [
  {
   "cell_type": "code",
   "execution_count": 1,
   "metadata": {},
   "outputs": [],
   "source": [
    "from matplotlib.animation import FuncAnimation\n",
    "import matplotlib.pyplot as plt\n",
    "import numpy as np\n",
    "from IPython.display import HTML\n",
    "from test_shapes import blinker, pulsar, block, glider\n",
    "\n",
    "def animate(steps):\n",
    "    def init():\n",
    "        im.set_data(steps[0])\n",
    "        return [im]\n",
    "\n",
    "    def animation_function(i):\n",
    "        im.set_data(steps[i])\n",
    "        return [im]\n",
    "\n",
    "    im = plt.matshow(steps[0], interpolation='None', animated=True)\n",
    "\n",
    "    return FuncAnimation(im.get_figure(), animation_function, init_func=init,\n",
    "                         frames=len(steps), interval=500, blit=True, repeat=False)\n"
   ]
  },
  {
   "cell_type": "markdown",
   "metadata": {},
   "source": [
    "One thread is one cell and synchronization is done using mutex and semaphores\n"
   ]
  },
  {
   "cell_type": "code",
   "execution_count": null,
   "metadata": {
    "pycharm": {
     "name": "#%%\n"
    }
   },
   "outputs": [],
   "source": [
    "from threads_keys_and_semaphores import create_steps\n",
    "\n",
    "animation = animate(create_steps(starting_state=glider(), iteration_number=40))\n",
    "HTML(animation.to_html5_video())"
   ]
  },
  {
   "cell_type": "markdown",
   "metadata": {},
   "source": [
    "One thread is one cell and synchronization is done message queue\n"
   ]
  },
  {
   "cell_type": "code",
   "execution_count": null,
   "metadata": {
    "pycharm": {
     "name": "#%%\n"
    }
   },
   "outputs": [],
   "source": [
    "from threads_message_queue import create_steps\n",
    "\n",
    "animation = animate(create_steps())\n",
    "HTML(animation.to_html5_video())"
   ]
  },
  {
   "cell_type": "markdown",
   "metadata": {},
   "source": [
    "One process is one cell and synchronization is done message queue\n"
   ]
  },
  {
   "cell_type": "code",
   "execution_count": null,
   "metadata": {
    "pycharm": {
     "name": "#%%\n"
    }
   },
   "outputs": [],
   "source": [
    "from processes_message_queue import create_steps\n",
    "\n",
    "animation = animate(create_steps())\n",
    "HTML(animation.to_html5_video())"
   ]
  },
  {
   "cell_type": "markdown",
   "metadata": {
    "pycharm": {
     "name": "#%% md\n"
    }
   },
   "source": [
    "Process pool with tasks on cell group level\n"
   ]
  },
  {
   "cell_type": "code",
   "execution_count": null,
   "metadata": {
    "pycharm": {
     "name": "#%%\n"
    }
   },
   "outputs": [],
   "source": [
    "from process_pool import create_steps\n",
    "\n",
    "animation = animate(create_steps())\n",
    "HTML(animation.to_html5_video())"
   ]
  }
 ],
 "metadata": {
  "kernelspec": {
   "display_name": "Python 3",
   "language": "python",
   "name": "python3"
  },
  "language_info": {
   "codemirror_mode": {
    "name": "ipython",
    "version": 3
   },
   "file_extension": ".py",
   "mimetype": "text/x-python",
   "name": "python",
   "nbconvert_exporter": "python",
   "pygments_lexer": "ipython3",
   "version": "3.8.5"
  }
 },
 "nbformat": 4,
 "nbformat_minor": 1
}